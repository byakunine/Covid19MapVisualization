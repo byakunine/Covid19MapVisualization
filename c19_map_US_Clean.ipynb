{
 "cells": [
  {
   "cell_type": "code",
   "execution_count": null,
   "metadata": {},
   "outputs": [],
   "source": [
    "import plotly.express as px\n",
    "import pandas as pd\n",
    "from datetime import date\n",
    "import datetime\n",
    "from dateutil import tz\n",
    "import json\n",
    "import os\n",
    "import json\n",
    "\n",
    "\n",
    "\n",
    "# global variables, the value is current file path\n",
    "BASE_PATH=os.path.dirname(os.path.dirname(os.path.abspath('__file__')))"
   ]
  },
  {
   "cell_type": "code",
   "execution_count": null,
   "metadata": {},
   "outputs": [],
   "source": [
    "remove_list = [\"README.md\", \".gitignore\"]\n",
    "path = BASE_PATH + \"/../COVID-19/csse_covid_19_data/csse_covid_19_time_series\"\n",
    "\n",
    "#Read detailed US Confirmed CSV data\n",
    "us_confirmed_df = pd.read_csv(path + \"/time_series_covid19_confirmed_US.csv\")\n",
    "\n",
    "# Observe data\n",
    "us_confirmed_df.head()\n"
   ]
  },
  {
   "cell_type": "code",
   "execution_count": null,
   "metadata": {},
   "outputs": [],
   "source": [
    "#Restructure US Confirmd using pd.melt\n",
    "\n",
    "col_used = list(us_confirmed_df.columns)[11:] + ['Lat','Long_','Combined_Key','Province_State']\n",
    "us_confirmed_gathered_df = pd.melt(us_confirmed_df[col_used],id_vars=['Lat','Long_','Combined_Key','Province_State'])\n",
    "        \n",
    "us_confirmed_gathered_df.head()"
   ]
  },
  {
   "cell_type": "code",
   "execution_count": null,
   "metadata": {},
   "outputs": [],
   "source": [
    "def save_location_json(df, file_name):\n",
    "    # Loop through global confirmed df, Save Long&Lat information for each Province/State\n",
    "    # Loop through US confirmed df, Save Long&Lat information for each City \n",
    "    data_dict = {}\n",
    "    if 'global' in file_name:\n",
    "        for _ , row in df.iterrows():   \n",
    "            data_dict[row['Province/State']] = [row['Long'], row['Lat']]\n",
    "    elif 'US' in file_name:\n",
    "        for _ , row in df.iterrows(): \n",
    "            data_dict[row['Combined_Key']] = [row['Long_'], row['Lat']]\n",
    "    \n",
    "    # Save data to local as json file\n",
    "    with open(file_name + \".json\", \"w\")as f:\n",
    "        f.write(json.dumps(data_dict))\n",
    "\n",
    "#Process US add df\n",
    "save_location_json(us_confirmed_gathered_df, \"US_location\")"
   ]
  },
  {
   "cell_type": "code",
   "execution_count": null,
   "metadata": {},
   "outputs": [],
   "source": [
    "#Generate US Plotly Bubble Map\n",
    "\n",
    "\n",
    "headerList = list(us_confirmed_gathered_df.head().columns.values)\n",
    "\n",
    "fig = px.scatter_geo(us_confirmed_gathered_df, lat=\"Lat\",lon=\"Long_\",color = \"Province_State\",\n",
    "                     hover_name=\"Combined_Key\", animation_frame=\"variable\", size=\"value\", projection = \"albers usa\")\n",
    "fig.show()"
   ]
  },
  {
   "cell_type": "code",
   "execution_count": null,
   "metadata": {},
   "outputs": [],
   "source": []
  },
  {
   "cell_type": "code",
   "execution_count": null,
   "metadata": {},
   "outputs": [],
   "source": []
  }
 ],
 "metadata": {
  "kernelspec": {
   "display_name": "Python 3",
   "language": "python",
   "name": "python3"
  },
  "language_info": {
   "codemirror_mode": {
    "name": "ipython",
    "version": 3
   },
   "file_extension": ".py",
   "mimetype": "text/x-python",
   "name": "python",
   "nbconvert_exporter": "python",
   "pygments_lexer": "ipython3",
   "version": "3.7.6"
  }
 },
 "nbformat": 4,
 "nbformat_minor": 4
}
